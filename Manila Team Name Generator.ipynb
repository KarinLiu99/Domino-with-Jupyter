{
 "cells": [
  {
   "cell_type": "markdown",
   "metadata": {},
   "source": [
    "## Team Manila need Programming SuperHero Names!"
   ]
  },
  {
   "cell_type": "code",
   "execution_count": null,
   "metadata": {},
   "outputs": [],
   "source": [
    "import random\n",
    "\n",
    "names_male = [\"Odinson\",\"Frodo\",\"Admiral Ackbar\",\"Homelander\",\"Loki\",\"Chewbacca\",\"Dobby\",\"Kermit\",\"Gonzo\"]\n",
    "\n",
    "names_female = [\"Nebula\",\"Princess Leia\",\"Ambrosia\",\"Ripley\",\"Ladybug\",\"Babushka\",\"Snow White\",\"Mama Fiama\"]\n",
    "\n",
    "names_non_binary = [\"Sunrise\",\"Butterfly\",\"Snowball\",\"Blanket\",\"Pinkie\"]"
   ]
  },
  {
   "cell_type": "code",
   "execution_count": null,
   "metadata": {},
   "outputs": [],
   "source": [
    "def new_name(oldname):\n",
    "    \n",
    "    if (oldname in (\"Kenneth\",\"RJ\",\"Michael\",\"Andy\",\"Stephan\",\"Man\",\"Jason\",\"Ross\")):\n",
    "        return random.choice(names_male)\n",
    "    \n",
    "    elif (oldname in (\"Pam\",\"Sam\",\"Rash\",\"Cleo\",\"May\")):\n",
    "        return random.choice(names_female) \n",
    "    \n",
    "    return (\"You have be designated non binary:\", random.choice(names_non_binary))    "
   ]
  },
  {
   "cell_type": "code",
   "execution_count": null,
   "metadata": {},
   "outputs": [],
   "source": [
    "oldname = input(\"Please enter your name and you will receive your New project name: \")\n",
    "print(new_name(oldname))"
   ]
  }
 ],
 "metadata": {
  "kernelspec": {
   "display_name": "Python 3",
   "language": "python",
   "name": "python3"
  },
  "language_info": {
   "codemirror_mode": {
    "name": "ipython",
    "version": 3
   },
   "file_extension": ".py",
   "mimetype": "text/x-python",
   "name": "python",
   "nbconvert_exporter": "python",
   "pygments_lexer": "ipython3",
   "version": "3.7.3"
  }
 },
 "nbformat": 4,
 "nbformat_minor": 2
}
