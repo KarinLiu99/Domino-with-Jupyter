{
 "cells": [
  {
   "cell_type": "markdown",
   "metadata": {},
   "source": [
    "## Team Manila need Programming SuperHero Names!"
   ]
  },
  {
   "cell_type": "code",
   "execution_count": null,
   "metadata": {},
   "outputs": [],
   "source": [
    "import random\n",
    "\n",
    "names_male = [\"Odinson\",\"Frodo\",\"Admiral Ackbar\",\"Homelander\",\"Loki\",\"Chewbacca\",\"Dobby\"]\n",
    "\n",
    "names_female = [\"Nebula\",\"Princess Leia\",\"Ambrosia\",\"Ripley\",\"Ladybug\",\"Babushka\"]"
   ]
  },
  {
   "cell_type": "code",
   "execution_count": null,
   "metadata": {},
   "outputs": [],
   "source": [
    "def new_name(gender):\n",
    "    \n",
    "    if (gender in (\"Male\",\"male\")):\n",
    "        return random.choice(names_male)\n",
    "    \n",
    "    elif (gender in (\"Female\",\"female\")):\n",
    "        return random.choice(names_female) \n",
    "    \n",
    "    return \"This program does not recognize gender neutral!\"    "
   ]
  },
  {
   "cell_type": "code",
   "execution_count": null,
   "metadata": {},
   "outputs": [],
   "source": [
    "gender = input(\"Please enter 'Male' or 'Female': \")\n",
    "print(new_name(gender))"
   ]
  }
 ],
 "metadata": {
  "kernelspec": {
   "display_name": "Python 3",
   "language": "python",
   "name": "python3"
  },
  "language_info": {
   "codemirror_mode": {
    "name": "ipython",
    "version": 3
   },
   "file_extension": ".py",
   "mimetype": "text/x-python",
   "name": "python",
   "nbconvert_exporter": "python",
   "pygments_lexer": "ipython3",
   "version": "3.7.3"
  }
 },
 "nbformat": 4,
 "nbformat_minor": 2
}
