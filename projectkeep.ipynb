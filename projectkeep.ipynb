{
 "cells": [
  {
   "cell_type": "markdown",
   "metadata": {},
   "source": [
    "# Import the required libs"
   ]
  },
  {
   "cell_type": "code",
   "execution_count": 4,
   "metadata": {},
   "outputs": [],
   "source": [
    "#import os\n",
    "import pandas as pd\n",
    "import numpy as np\n",
    "import seaborn as sns                       #visualisation\n",
    "import matplotlib.pyplot as plt             #visualisation\n",
    "%matplotlib inline     \n",
    "sns.set(color_codes=True)"
   ]
  },
  {
   "cell_type": "markdown",
   "metadata": {},
   "source": [
    "# Consume data from NHSA in Chicago"
   ]
  },
  {
   "cell_type": "code",
   "execution_count": 5,
   "metadata": {},
   "outputs": [
    {
     "data": {
      "text/html": [
       "<div>\n",
       "<style scoped>\n",
       "    .dataframe tbody tr th:only-of-type {\n",
       "        vertical-align: middle;\n",
       "    }\n",
       "\n",
       "    .dataframe tbody tr th {\n",
       "        vertical-align: top;\n",
       "    }\n",
       "\n",
       "    .dataframe thead th {\n",
       "        text-align: right;\n",
       "    }\n",
       "</style>\n",
       "<table border=\"1\" class=\"dataframe\">\n",
       "  <thead>\n",
       "    <tr style=\"text-align: right;\">\n",
       "      <th></th>\n",
       "      <th>ID</th>\n",
       "      <th>Traffic Volume Count Location  Address</th>\n",
       "      <th>Street</th>\n",
       "      <th>Date of Count</th>\n",
       "      <th>Total Passing Vehicle Volume</th>\n",
       "      <th>Vehicle Volume By Each Direction of Traffic</th>\n",
       "      <th>Latitude</th>\n",
       "      <th>Longitude</th>\n",
       "      <th>Location</th>\n",
       "      <th>Boundaries - ZIP Codes</th>\n",
       "      <th>Community Areas</th>\n",
       "      <th>Zip Codes</th>\n",
       "      <th>Census Tracts</th>\n",
       "      <th>Wards</th>\n",
       "      <th>:@computed_region_awaf_s7ux</th>\n",
       "    </tr>\n",
       "  </thead>\n",
       "  <tbody>\n",
       "    <tr>\n",
       "      <th>0</th>\n",
       "      <td>691</td>\n",
       "      <td>6067 North</td>\n",
       "      <td>Kimball Ave</td>\n",
       "      <td>08/15/2006</td>\n",
       "      <td>15600</td>\n",
       "      <td>North Bound: 7500 / South Bound: 8100</td>\n",
       "      <td>41.992042</td>\n",
       "      <td>-87.714036</td>\n",
       "      <td>(41.992042, -87.714036)</td>\n",
       "      <td>50.0</td>\n",
       "      <td>13.0</td>\n",
       "      <td>4450</td>\n",
       "      <td>747.0</td>\n",
       "      <td>27.0</td>\n",
       "      <td>42.0</td>\n",
       "    </tr>\n",
       "    <tr>\n",
       "      <th>1</th>\n",
       "      <td>960</td>\n",
       "      <td>5116 North</td>\n",
       "      <td>Ashland Ave</td>\n",
       "      <td>08/22/2006</td>\n",
       "      <td>26700</td>\n",
       "      <td>North Bound: 13100 / South Bound: 13600</td>\n",
       "      <td>41.974889</td>\n",
       "      <td>-87.669587</td>\n",
       "      <td>(41.974889, -87.669587)</td>\n",
       "      <td>15.0</td>\n",
       "      <td>31.0</td>\n",
       "      <td>22616</td>\n",
       "      <td>610.0</td>\n",
       "      <td>24.0</td>\n",
       "      <td>13.0</td>\n",
       "    </tr>\n",
       "    <tr>\n",
       "      <th>2</th>\n",
       "      <td>85</td>\n",
       "      <td>6416 South</td>\n",
       "      <td>State St</td>\n",
       "      <td>05/02/2006</td>\n",
       "      <td>19300</td>\n",
       "      <td>North Bound: 8800 / South Bound: 10500</td>\n",
       "      <td>41.777072</td>\n",
       "      <td>-87.625260</td>\n",
       "      <td>(41.777072, -87.62526)</td>\n",
       "      <td>11.0</td>\n",
       "      <td>67.0</td>\n",
       "      <td>21559</td>\n",
       "      <td>122.0</td>\n",
       "      <td>4.0</td>\n",
       "      <td>53.0</td>\n",
       "    </tr>\n",
       "    <tr>\n",
       "      <th>3</th>\n",
       "      <td>1116</td>\n",
       "      <td>435 North</td>\n",
       "      <td>La Salle St</td>\n",
       "      <td>09/21/2006</td>\n",
       "      <td>32300</td>\n",
       "      <td>North Bound: 17700 / South Bound: 14600</td>\n",
       "      <td>41.890186</td>\n",
       "      <td>-87.632548</td>\n",
       "      <td>(41.890186, -87.632548)</td>\n",
       "      <td>55.0</td>\n",
       "      <td>37.0</td>\n",
       "      <td>4446</td>\n",
       "      <td>670.0</td>\n",
       "      <td>36.0</td>\n",
       "      <td>22.0</td>\n",
       "    </tr>\n",
       "    <tr>\n",
       "      <th>4</th>\n",
       "      <td>871</td>\n",
       "      <td>6891 West</td>\n",
       "      <td>Diversey Ave</td>\n",
       "      <td>08/16/2006</td>\n",
       "      <td>16600</td>\n",
       "      <td>East Bound: 8600 / West Bound: 8000</td>\n",
       "      <td>41.930851</td>\n",
       "      <td>-87.797915</td>\n",
       "      <td>(41.930851, -87.797915)</td>\n",
       "      <td>3.0</td>\n",
       "      <td>18.0</td>\n",
       "      <td>4454</td>\n",
       "      <td>136.0</td>\n",
       "      <td>44.0</td>\n",
       "      <td>39.0</td>\n",
       "    </tr>\n",
       "  </tbody>\n",
       "</table>\n",
       "</div>"
      ],
      "text/plain": [
       "    ID  Traffic Volume Count Location  Address        Street Date of Count  \\\n",
       "0   691                             6067 North   Kimball Ave    08/15/2006   \n",
       "1   960                             5116 North   Ashland Ave    08/22/2006   \n",
       "2    85                             6416 South      State St    05/02/2006   \n",
       "3  1116                              435 North   La Salle St    09/21/2006   \n",
       "4   871                              6891 West  Diversey Ave    08/16/2006   \n",
       "\n",
       "   Total Passing Vehicle Volume Vehicle Volume By Each Direction of Traffic  \\\n",
       "0                         15600       North Bound: 7500 / South Bound: 8100   \n",
       "1                         26700     North Bound: 13100 / South Bound: 13600   \n",
       "2                         19300      North Bound: 8800 / South Bound: 10500   \n",
       "3                         32300     North Bound: 17700 / South Bound: 14600   \n",
       "4                         16600         East Bound: 8600 / West Bound: 8000   \n",
       "\n",
       "    Latitude  Longitude                 Location  Boundaries - ZIP Codes  \\\n",
       "0  41.992042 -87.714036  (41.992042, -87.714036)                    50.0   \n",
       "1  41.974889 -87.669587  (41.974889, -87.669587)                    15.0   \n",
       "2  41.777072 -87.625260   (41.777072, -87.62526)                    11.0   \n",
       "3  41.890186 -87.632548  (41.890186, -87.632548)                    55.0   \n",
       "4  41.930851 -87.797915  (41.930851, -87.797915)                     3.0   \n",
       "\n",
       "   Community Areas  Zip Codes  Census Tracts  Wards  \\\n",
       "0             13.0       4450          747.0   27.0   \n",
       "1             31.0      22616          610.0   24.0   \n",
       "2             67.0      21559          122.0    4.0   \n",
       "3             37.0       4446          670.0   36.0   \n",
       "4             18.0       4454          136.0   44.0   \n",
       "\n",
       "   :@computed_region_awaf_s7ux  \n",
       "0                         42.0  \n",
       "1                         13.0  \n",
       "2                         53.0  \n",
       "3                         22.0  \n",
       "4                         39.0  "
      ]
     },
     "execution_count": 5,
     "metadata": {},
     "output_type": "execute_result"
    }
   ],
   "source": [
    "#os.chdir(\"/users/george.fridrich/downloads\")\n",
    "df = pd.read_csv(\"Average_Daily_Traffic_Counts.csv\")\n",
    "# To display the top 5 rows \n",
    "df.head(5)"
   ]
  },
  {
   "cell_type": "markdown",
   "metadata": {},
   "source": [
    "# Check the Types of data available"
   ]
  },
  {
   "cell_type": "code",
   "execution_count": 6,
   "metadata": {},
   "outputs": [
    {
     "data": {
      "text/plain": [
       "ID                                               int64\n",
       "Traffic Volume Count Location  Address          object\n",
       "Street                                          object\n",
       "Date of Count                                   object\n",
       "Total Passing Vehicle Volume                     int64\n",
       "Vehicle Volume By Each Direction of Traffic     object\n",
       "Latitude                                       float64\n",
       "Longitude                                      float64\n",
       "Location                                        object\n",
       "Boundaries - ZIP Codes                         float64\n",
       "Community Areas                                float64\n",
       "Zip Codes                                        int64\n",
       "Census Tracts                                  float64\n",
       "Wards                                          float64\n",
       ":@computed_region_awaf_s7ux                    float64\n",
       "dtype: object"
      ]
     },
     "execution_count": 6,
     "metadata": {},
     "output_type": "execute_result"
    }
   ],
   "source": [
    "df.dtypes"
   ]
  },
  {
   "cell_type": "markdown",
   "metadata": {},
   "source": [
    "# Remove not pertinent data types"
   ]
  },
  {
   "cell_type": "code",
   "execution_count": 7,
   "metadata": {},
   "outputs": [
    {
     "data": {
      "text/html": [
       "<div>\n",
       "<style scoped>\n",
       "    .dataframe tbody tr th:only-of-type {\n",
       "        vertical-align: middle;\n",
       "    }\n",
       "\n",
       "    .dataframe tbody tr th {\n",
       "        vertical-align: top;\n",
       "    }\n",
       "\n",
       "    .dataframe thead th {\n",
       "        text-align: right;\n",
       "    }\n",
       "</style>\n",
       "<table border=\"1\" class=\"dataframe\">\n",
       "  <thead>\n",
       "    <tr style=\"text-align: right;\">\n",
       "      <th></th>\n",
       "      <th>ID</th>\n",
       "      <th>Traffic Volume Count Location  Address</th>\n",
       "      <th>Street</th>\n",
       "      <th>Date of Count</th>\n",
       "      <th>Total Passing Vehicle Volume</th>\n",
       "      <th>Vehicle Volume By Each Direction of Traffic</th>\n",
       "      <th>Location</th>\n",
       "      <th>Boundaries - ZIP Codes</th>\n",
       "      <th>Community Areas</th>\n",
       "      <th>Zip Codes</th>\n",
       "      <th>Census Tracts</th>\n",
       "    </tr>\n",
       "  </thead>\n",
       "  <tbody>\n",
       "    <tr>\n",
       "      <th>0</th>\n",
       "      <td>691</td>\n",
       "      <td>6067 North</td>\n",
       "      <td>Kimball Ave</td>\n",
       "      <td>08/15/2006</td>\n",
       "      <td>15600</td>\n",
       "      <td>North Bound: 7500 / South Bound: 8100</td>\n",
       "      <td>(41.992042, -87.714036)</td>\n",
       "      <td>50.0</td>\n",
       "      <td>13.0</td>\n",
       "      <td>4450</td>\n",
       "      <td>747.0</td>\n",
       "    </tr>\n",
       "    <tr>\n",
       "      <th>1</th>\n",
       "      <td>960</td>\n",
       "      <td>5116 North</td>\n",
       "      <td>Ashland Ave</td>\n",
       "      <td>08/22/2006</td>\n",
       "      <td>26700</td>\n",
       "      <td>North Bound: 13100 / South Bound: 13600</td>\n",
       "      <td>(41.974889, -87.669587)</td>\n",
       "      <td>15.0</td>\n",
       "      <td>31.0</td>\n",
       "      <td>22616</td>\n",
       "      <td>610.0</td>\n",
       "    </tr>\n",
       "    <tr>\n",
       "      <th>2</th>\n",
       "      <td>85</td>\n",
       "      <td>6416 South</td>\n",
       "      <td>State St</td>\n",
       "      <td>05/02/2006</td>\n",
       "      <td>19300</td>\n",
       "      <td>North Bound: 8800 / South Bound: 10500</td>\n",
       "      <td>(41.777072, -87.62526)</td>\n",
       "      <td>11.0</td>\n",
       "      <td>67.0</td>\n",
       "      <td>21559</td>\n",
       "      <td>122.0</td>\n",
       "    </tr>\n",
       "    <tr>\n",
       "      <th>3</th>\n",
       "      <td>1116</td>\n",
       "      <td>435 North</td>\n",
       "      <td>La Salle St</td>\n",
       "      <td>09/21/2006</td>\n",
       "      <td>32300</td>\n",
       "      <td>North Bound: 17700 / South Bound: 14600</td>\n",
       "      <td>(41.890186, -87.632548)</td>\n",
       "      <td>55.0</td>\n",
       "      <td>37.0</td>\n",
       "      <td>4446</td>\n",
       "      <td>670.0</td>\n",
       "    </tr>\n",
       "    <tr>\n",
       "      <th>4</th>\n",
       "      <td>871</td>\n",
       "      <td>6891 West</td>\n",
       "      <td>Diversey Ave</td>\n",
       "      <td>08/16/2006</td>\n",
       "      <td>16600</td>\n",
       "      <td>East Bound: 8600 / West Bound: 8000</td>\n",
       "      <td>(41.930851, -87.797915)</td>\n",
       "      <td>3.0</td>\n",
       "      <td>18.0</td>\n",
       "      <td>4454</td>\n",
       "      <td>136.0</td>\n",
       "    </tr>\n",
       "  </tbody>\n",
       "</table>\n",
       "</div>"
      ],
      "text/plain": [
       "    ID  Traffic Volume Count Location  Address        Street Date of Count  \\\n",
       "0   691                             6067 North   Kimball Ave    08/15/2006   \n",
       "1   960                             5116 North   Ashland Ave    08/22/2006   \n",
       "2    85                             6416 South      State St    05/02/2006   \n",
       "3  1116                              435 North   La Salle St    09/21/2006   \n",
       "4   871                              6891 West  Diversey Ave    08/16/2006   \n",
       "\n",
       "   Total Passing Vehicle Volume Vehicle Volume By Each Direction of Traffic  \\\n",
       "0                         15600       North Bound: 7500 / South Bound: 8100   \n",
       "1                         26700     North Bound: 13100 / South Bound: 13600   \n",
       "2                         19300      North Bound: 8800 / South Bound: 10500   \n",
       "3                         32300     North Bound: 17700 / South Bound: 14600   \n",
       "4                         16600         East Bound: 8600 / West Bound: 8000   \n",
       "\n",
       "                  Location  Boundaries - ZIP Codes  Community Areas  \\\n",
       "0  (41.992042, -87.714036)                    50.0             13.0   \n",
       "1  (41.974889, -87.669587)                    15.0             31.0   \n",
       "2   (41.777072, -87.62526)                    11.0             67.0   \n",
       "3  (41.890186, -87.632548)                    55.0             37.0   \n",
       "4  (41.930851, -87.797915)                     3.0             18.0   \n",
       "\n",
       "   Zip Codes  Census Tracts  \n",
       "0       4450          747.0  \n",
       "1      22616          610.0  \n",
       "2      21559          122.0  \n",
       "3       4446          670.0  \n",
       "4       4454          136.0  "
      ]
     },
     "execution_count": 7,
     "metadata": {},
     "output_type": "execute_result"
    }
   ],
   "source": [
    "df = df.drop(['Wards',':@computed_region_awaf_s7ux', 'Latitude', 'Longitude'], axis=1)\n",
    "df.head(5)"
   ]
  },
  {
   "cell_type": "markdown",
   "metadata": {},
   "source": [
    "# Detect Outliers"
   ]
  },
  {
   "cell_type": "code",
   "execution_count": 10,
   "metadata": {},
   "outputs": [
    {
     "data": {
      "text/plain": [
       "<matplotlib.axes._subplots.AxesSubplot at 0x1735a28a710>"
      ]
     },
     "execution_count": 10,
     "metadata": {},
     "output_type": "execute_result"
    },
    {
     "data": {
      "image/png": "[encoded data removed]",
      "text/plain": [
       "<Figure size 432x288 with 1 Axes>"
      ]
     },
     "metadata": {
      "needs_background": "light"
     },
     "output_type": "display_data"
    }
   ],
   "source": [
    "sns.boxplot(x=df['Community Areas'])"
   ]
  },
  {
   "cell_type": "code",
   "execution_count": 11,
   "metadata": {},
   "outputs": [
    {
     "data": {
      "text/plain": [
       "<matplotlib.axes._subplots.AxesSubplot at 0x1735a302438>"
      ]
     },
     "execution_count": 11,
     "metadata": {},
     "output_type": "execute_result"
    },
    {
     "data": {
      "image/png": "[encoded data removed]",
      "text/plain": [
       "<Figure size 432x288 with 1 Axes>"
      ]
     },
     "metadata": {
      "needs_background": "light"
     },
     "output_type": "display_data"
    }
   ],
   "source": [
    "sns.boxplot(x=df['Boundaries - ZIP Codes'])"
   ]
  },
  {
   "cell_type": "markdown",
   "metadata": {},
   "source": [
    "# Histogram to compare different data types"
   ]
  },
  {
   "cell_type": "code",
   "execution_count": 12,
   "metadata": {},
   "outputs": [
    {
     "ename": "AttributeError",
     "evalue": "'DataFrame' object has no attribute 'make'",
     "output_type": "error",
     "traceback": [
      "\u001b[1;31m---------------------------------------------------------------------------\u001b[0m",
      "\u001b[1;31mAttributeError\u001b[0m                            Traceback (most recent call last)",
      "\u001b[1;32m<ipython-input-12-b6cc5d351e8d>\u001b[0m in \u001b[0;36m<module>\u001b[1;34m\u001b[0m\n\u001b[1;32m----> 1\u001b[1;33m \u001b[0mdf\u001b[0m\u001b[1;33m.\u001b[0m\u001b[0mmake\u001b[0m\u001b[1;33m.\u001b[0m\u001b[0mvalue_counts\u001b[0m\u001b[1;33m(\u001b[0m\u001b[1;33m)\u001b[0m\u001b[1;33m.\u001b[0m\u001b[0mnlargest\u001b[0m\u001b[1;33m(\u001b[0m\u001b[1;36m40\u001b[0m\u001b[1;33m)\u001b[0m\u001b[1;33m.\u001b[0m\u001b[0mplot\u001b[0m\u001b[1;33m(\u001b[0m\u001b[0mkind\u001b[0m\u001b[1;33m=\u001b[0m\u001b[1;34m'bar'\u001b[0m\u001b[1;33m,\u001b[0m \u001b[0mfigsize\u001b[0m\u001b[1;33m=\u001b[0m\u001b[1;33m(\u001b[0m\u001b[1;36m10\u001b[0m\u001b[1;33m,\u001b[0m\u001b[1;36m5\u001b[0m\u001b[1;33m)\u001b[0m\u001b[1;33m)\u001b[0m\u001b[1;33m\u001b[0m\u001b[1;33m\u001b[0m\u001b[0m\n\u001b[0m\u001b[0;32m      2\u001b[0m \u001b[0mplt\u001b[0m\u001b[1;33m.\u001b[0m\u001b[0mtitle\u001b[0m\u001b[1;33m(\u001b[0m\u001b[1;34m\"Vehicle volume by location\"\u001b[0m\u001b[1;33m)\u001b[0m\u001b[1;33m\u001b[0m\u001b[1;33m\u001b[0m\u001b[0m\n\u001b[0;32m      3\u001b[0m \u001b[0mplt\u001b[0m\u001b[1;33m.\u001b[0m\u001b[0mylabel\u001b[0m\u001b[1;33m(\u001b[0m\u001b[1;34m'Total Passing Vehicle Volume'\u001b[0m\u001b[1;33m)\u001b[0m\u001b[1;33m\u001b[0m\u001b[1;33m\u001b[0m\u001b[0m\n\u001b[0;32m      4\u001b[0m \u001b[0mplt\u001b[0m\u001b[1;33m.\u001b[0m\u001b[0mxlabel\u001b[0m\u001b[1;33m(\u001b[0m\u001b[1;34m'Location'\u001b[0m\u001b[1;33m)\u001b[0m\u001b[1;33m;\u001b[0m\u001b[1;33m\u001b[0m\u001b[1;33m\u001b[0m\u001b[0m\n",
      "\u001b[1;32mC:\\ProgramData\\Anaconda3\\lib\\site-packages\\pandas\\core\\generic.py\u001b[0m in \u001b[0;36m__getattr__\u001b[1;34m(self, name)\u001b[0m\n\u001b[0;32m   5065\u001b[0m             \u001b[1;32mif\u001b[0m \u001b[0mself\u001b[0m\u001b[1;33m.\u001b[0m\u001b[0m_info_axis\u001b[0m\u001b[1;33m.\u001b[0m\u001b[0m_can_hold_identifiers_and_holds_name\u001b[0m\u001b[1;33m(\u001b[0m\u001b[0mname\u001b[0m\u001b[1;33m)\u001b[0m\u001b[1;33m:\u001b[0m\u001b[1;33m\u001b[0m\u001b[1;33m\u001b[0m\u001b[0m\n\u001b[0;32m   5066\u001b[0m                 \u001b[1;32mreturn\u001b[0m \u001b[0mself\u001b[0m\u001b[1;33m[\u001b[0m\u001b[0mname\u001b[0m\u001b[1;33m]\u001b[0m\u001b[1;33m\u001b[0m\u001b[1;33m\u001b[0m\u001b[0m\n\u001b[1;32m-> 5067\u001b[1;33m             \u001b[1;32mreturn\u001b[0m \u001b[0mobject\u001b[0m\u001b[1;33m.\u001b[0m\u001b[0m__getattribute__\u001b[0m\u001b[1;33m(\u001b[0m\u001b[0mself\u001b[0m\u001b[1;33m,\u001b[0m \u001b[0mname\u001b[0m\u001b[1;33m)\u001b[0m\u001b[1;33m\u001b[0m\u001b[1;33m\u001b[0m\u001b[0m\n\u001b[0m\u001b[0;32m   5068\u001b[0m \u001b[1;33m\u001b[0m\u001b[0m\n\u001b[0;32m   5069\u001b[0m     \u001b[1;32mdef\u001b[0m \u001b[0m__setattr__\u001b[0m\u001b[1;33m(\u001b[0m\u001b[0mself\u001b[0m\u001b[1;33m,\u001b[0m \u001b[0mname\u001b[0m\u001b[1;33m,\u001b[0m \u001b[0mvalue\u001b[0m\u001b[1;33m)\u001b[0m\u001b[1;33m:\u001b[0m\u001b[1;33m\u001b[0m\u001b[1;33m\u001b[0m\u001b[0m\n",
      "\u001b[1;31mAttributeError\u001b[0m: 'DataFrame' object has no attribute 'make'"
     ]
    }
   ],
   "source": [
    "df.Make.value_counts().nlargest(40).plot(kind='bar', figsize=(10,5))\n",
    "plt.title(\"Vehicle volume by location\")\n",
    "plt.ylabel('Total Passing Vehicle Volume')\n",
    "plt.xlabel('Location');"
   ]
  },
  {
   "cell_type": "markdown",
   "metadata": {},
   "source": [
    "# Scatterplot to compare data types"
   ]
  },
  {
   "cell_type": "code",
   "execution_count": 34,
   "metadata": {},
   "outputs": [
    {
     "data": {
      "image/png": "[encoded data removed]",
      "text/plain": [
       "<Figure size 720x432 with 1 Axes>"
      ]
     },
     "metadata": {},
     "output_type": "display_data"
    }
   ],
   "source": [
    "fig, ax = plt.subplots(figsize=(10,6))\n",
    "ax.scatter(df['Location'], df['Total Passing Vehicle Volume'])\n",
    "ax.set_xlabel('Location')\n",
    "ax.set_ylabel('Total Passing Vehicle Volume')\n",
    "plt.show()"
   ]
  },
  {
   "cell_type": "code",
   "execution_count": null,
   "metadata": {},
   "outputs": [],
   "source": []
  }
 ],
 "metadata": {
  "kernelspec": {
   "display_name": "Python 3",
   "language": "python",
   "name": "python3"
  },
  "language_info": {
   "codemirror_mode": {
    "name": "ipython",
    "version": 3
   },
   "file_extension": ".py",
   "mimetype": "text/x-python",
   "name": "python",
   "nbconvert_exporter": "python",
   "pygments_lexer": "ipython3",
   "version": "3.7.3"
  }
 },
 "nbformat": 4,
 "nbformat_minor": 2
}
